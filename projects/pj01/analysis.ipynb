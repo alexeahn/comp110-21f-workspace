{
 "cells": [
  {
   "cell_type": "markdown",
   "metadata": {},
   "source": [
    "# Data Analysis: Project 1"
   ]
  },
  {
   "cell_type": "markdown",
   "metadata": {},
   "source": [
    "Using the data presented through the survey, I believe that students that have prior experience will think that computer science is a valuble skill. My reason is that, if you are an individual who has devoted lots of time to computer science, you probably believe there is something inherently valuble about the skill. Those who have spent less time outside of class practicing computer science probably do not value it as much as those who have spent more time. "
   ]
  },
  {
   "cell_type": "code",
   "execution_count": 1,
   "metadata": {},
   "outputs": [],
   "source": [
    "__author__ = \"7303-89910\""
   ]
  },
  {
   "cell_type": "markdown",
   "metadata": {},
   "source": [
    "Before the analysis begins, autosave needs to be set up. This is copy/pasted from ex07."
   ]
  },
  {
   "cell_type": "code",
   "execution_count": 2,
   "metadata": {},
   "outputs": [
    {
     "name": "stdout",
     "output_type": "stream",
     "text": [
      "Autoreload of imported modules enabled. Be sure to save your work in other modules!\n"
     ]
    }
   ],
   "source": [
    "%reload_ext autoreload\n",
    "%autoreload 2\n",
    "print(\"Autoreload of imported modules enabled. Be sure to save your work in other modules!\")"
   ]
  },
  {
   "cell_type": "markdown",
   "metadata": {},
   "source": [
    "The class's data must be located before the analysis can start."
   ]
  },
  {
   "cell_type": "code",
   "execution_count": 3,
   "metadata": {},
   "outputs": [],
   "source": [
    "DATA_DIRECTORY=\"../../data\"\n",
    "DATA_FILE_PATH=f\"{DATA_DIRECTORY}/survey.csv\""
   ]
  },
  {
   "cell_type": "markdown",
   "metadata": {},
   "source": [
    "As we go down the line, the first function used in the analysis is the reader function. This function shows all of the categories of data to choose from when forming a hypothesis. Not all of them will be used, but it is good to see them all presented nonetheless. "
   ]
  },
  {
   "cell_type": "code",
   "execution_count": 4,
   "metadata": {},
   "outputs": [
    {
     "name": "stdout",
     "output_type": "stream",
     "text": [
      "Data File Read: ../../data/survey.csv\n",
      "573 rows\n",
      "36 columns\n",
      "Columns names: dict_keys(['row_number', 'year', 'unc_status', 'comp_major', 'primary_major', 'data_science', 'prereqs', 'prior_exp', 'AP_Principles', 'AP_A', 'other_comp', 'prior_time', 'languages', 'section', 'in_person_classes', 'hours_online_social', 'hours_online_work', 'lesson_time', 'sync_perf', 'all_sync', 'own_notes', 'own_examples', 'oh_visits', 'ls_effective', 'lsqs_effective', 'programming_effective', 'qz_effective', 'oh_effective', 'tutoring_effective', 'kaki_effective', 'pace', 'difficulty', 'understanding', 'interesting', 'valuable', 'would_recommend'])\n"
     ]
    }
   ],
   "source": [
    "from data_utils import read_csv_rows\n",
    "data_rows: list[dict[str, str]] = read_csv_rows(DATA_FILE_PATH)\n",
    "\n",
    "if len(data_rows) == 0:\n",
    "    print(\"Fix your function my guy.\")\n",
    "else:\n",
    "    print(f\"Data File Read: {DATA_FILE_PATH}\")\n",
    "    print(f\"{len(data_rows)} rows\")\n",
    "    print(f\"{len(data_rows[0].keys())} columns\")\n",
    "    print(f\"Columns names: {data_rows[0].keys()}\")"
   ]
  },
  {
   "cell_type": "markdown",
   "metadata": {},
   "source": [
    "Using the \"column_values\" function, we can assess how many values each of our relevant data columns have. In the case of my hypothesis, these two columns will be \"prior_exp\" and \"valuable.\" "
   ]
  },
  {
   "cell_type": "code",
   "execution_count": 14,
   "metadata": {},
   "outputs": [
    {
     "name": "stdout",
     "output_type": "stream",
     "text": [
      "Column 'prior_exp' has 573 values.\n",
      "The first five values are:\n",
      "6\n",
      "7\n",
      "7\n",
      "4\n",
      "6\n"
     ]
    }
   ],
   "source": [
    "from data_utils import column_values\n",
    "\n",
    "prior_exp: list[str] = column_values(data_rows, \"prior_exp\")\n",
    "\n",
    "print(f\"Column 'prior_exp' has {len(prior_exp)} values.\")\n",
    "print(\"The first five values are:\")\n",
    "for i in range(5):\n",
    "        print(prior_exp[i])"
   ]
  },
  {
   "cell_type": "markdown",
   "metadata": {},
   "source": [
    "The above example showcases how to represent data within a certain category. It is more so a demonstration, and for that purpose, I will only be using it for one of the variables. For the next function, however, I will be using both categories, \"prior_exp\" and \"valuable.\" The purpose of this function is to restructure the data into columns, organized by category. "
   ]
  },
  {
   "cell_type": "code",
   "execution_count": 15,
   "metadata": {},
   "outputs": [
    {
     "name": "stdout",
     "output_type": "stream",
     "text": [
      "36 columns\n",
      "573 rows\n",
      "Columns names: dict_keys(['row_number', 'year', 'unc_status', 'comp_major', 'primary_major', 'data_science', 'prereqs', 'prior_exp', 'AP_Principles', 'AP_A', 'other_comp', 'prior_time', 'languages', 'section', 'in_person_classes', 'hours_online_social', 'hours_online_work', 'lesson_time', 'sync_perf', 'all_sync', 'own_notes', 'own_examples', 'oh_visits', 'ls_effective', 'lsqs_effective', 'programming_effective', 'qz_effective', 'oh_effective', 'tutoring_effective', 'kaki_effective', 'pace', 'difficulty', 'understanding', 'interesting', 'valuable', 'would_recommend'])\n"
     ]
    }
   ],
   "source": [
    "from data_utils import columnar\n",
    "\n",
    "data_cols: dict[str, list[str]] = columnar(data_rows)\n",
    "\n",
    "print(f\"{len(data_cols.keys())} columns\")\n",
    "print(f\"{len(data_cols['prior_exp'])} rows\")\n",
    "print(f\"Columns names: {data_cols.keys()}\")"
   ]
  },
  {
   "cell_type": "code",
   "execution_count": 17,
   "metadata": {},
   "outputs": [
    {
     "name": "stdout",
     "output_type": "stream",
     "text": [
      "36 columns\n",
      "573 rows\n",
      "Columns names: dict_keys(['row_number', 'year', 'unc_status', 'comp_major', 'primary_major', 'data_science', 'prereqs', 'prior_exp', 'AP_Principles', 'AP_A', 'other_comp', 'prior_time', 'languages', 'section', 'in_person_classes', 'hours_online_social', 'hours_online_work', 'lesson_time', 'sync_perf', 'all_sync', 'own_notes', 'own_examples', 'oh_visits', 'ls_effective', 'lsqs_effective', 'programming_effective', 'qz_effective', 'oh_effective', 'tutoring_effective', 'kaki_effective', 'pace', 'difficulty', 'understanding', 'interesting', 'valuable', 'would_recommend'])\n"
     ]
    }
   ],
   "source": [
    "from data_utils import columnar\n",
    "\n",
    "data_cols: dict[str, list[str]] = columnar(data_rows)\n",
    "\n",
    "print(f\"{len(data_cols.keys())} columns\")\n",
    "print(f\"{len(data_cols['valuable'])} rows\")\n",
    "print(f\"Columns names: {data_cols.keys()}\")"
   ]
  },
  {
   "cell_type": "markdown",
   "metadata": {},
   "source": [
    "Next, we need to structure the data into tables, so that it can be analyzed properly. To do so, we will use the head function and the tabulate function to demonstrate the available values. Below, 5 rows of student responses can be seen. Later, we will narrow this information down to only the \"prior_exp\" and \"valuable\" tables. "
   ]
  },
  {
   "cell_type": "code",
   "execution_count": 20,
   "metadata": {},
   "outputs": [
    {
     "data": {
      "text/html": [
       "<table>\n",
       "<thead>\n",
       "<tr><th style=\"text-align: right;\">  row_number</th><th style=\"text-align: right;\">  year</th><th>unc_status           </th><th>comp_major  </th><th>primary_major                   </th><th>data_science  </th><th>prereqs                                          </th><th>prior_exp                   </th><th>AP_Principles  </th><th>AP_A  </th><th>other_comp  </th><th>prior_time  </th><th>languages  </th><th>section  </th><th>in_person_classes  </th><th>hours_online_social  </th><th>hours_online_work  </th><th style=\"text-align: right;\">  lesson_time</th><th style=\"text-align: right;\">  sync_perf</th><th style=\"text-align: right;\">  all_sync</th><th style=\"text-align: right;\">  own_notes</th><th style=\"text-align: right;\">  own_examples</th><th style=\"text-align: right;\">  oh_visits</th><th style=\"text-align: right;\">  ls_effective</th><th style=\"text-align: right;\">  lsqs_effective</th><th style=\"text-align: right;\">  programming_effective</th><th style=\"text-align: right;\">  qz_effective</th><th>oh_effective  </th><th>tutoring_effective  </th><th>kaki_effective  </th><th style=\"text-align: right;\">  pace</th><th style=\"text-align: right;\">  difficulty</th><th style=\"text-align: right;\">  understanding</th><th style=\"text-align: right;\">  interesting</th><th style=\"text-align: right;\">  valuable</th><th style=\"text-align: right;\">  would_recommend</th></tr>\n",
       "</thead>\n",
       "<tbody>\n",
       "<tr><td style=\"text-align: right;\">           0</td><td style=\"text-align: right;\">    23</td><td>Returning UNC Student</td><td>No          </td><td>Advertising and Public Relations</td><td>No            </td><td>MATH 129P, MATH 130                              </td><td>None to less than one month!</td><td>               </td><td>      </td><td>            </td><td>            </td><td>           </td><td>In-Person</td><td>                   </td><td>3 to 5 hours         </td><td>3 to 5 hours       </td><td style=\"text-align: right;\">            5</td><td style=\"text-align: right;\">          2</td><td style=\"text-align: right;\">         2</td><td style=\"text-align: right;\">          4</td><td style=\"text-align: right;\">             2</td><td style=\"text-align: right;\">          2</td><td style=\"text-align: right;\">             7</td><td style=\"text-align: right;\">               6</td><td style=\"text-align: right;\">                      6</td><td style=\"text-align: right;\">             5</td><td>5             </td><td>                    </td><td>3               </td><td style=\"text-align: right;\">     5</td><td style=\"text-align: right;\">           5</td><td style=\"text-align: right;\">              4</td><td style=\"text-align: right;\">            5</td><td style=\"text-align: right;\">         6</td><td style=\"text-align: right;\">                7</td></tr>\n",
       "<tr><td style=\"text-align: right;\">           1</td><td style=\"text-align: right;\">    24</td><td>Returning UNC Student</td><td>No          </td><td>Anthropology                    </td><td>No            </td><td>MATH 129P, MATH 231                              </td><td>None to less than one month!</td><td>               </td><td>      </td><td>            </td><td>            </td><td>           </td><td>In-Person</td><td>                   </td><td>5 to 10 hours        </td><td>5 to 10 hours      </td><td style=\"text-align: right;\">            4</td><td style=\"text-align: right;\">          5</td><td style=\"text-align: right;\">         4</td><td style=\"text-align: right;\">          7</td><td style=\"text-align: right;\">             6</td><td style=\"text-align: right;\">          0</td><td style=\"text-align: right;\">             6</td><td style=\"text-align: right;\">               5</td><td style=\"text-align: right;\">                      7</td><td style=\"text-align: right;\">             5</td><td>              </td><td>                    </td><td>6               </td><td style=\"text-align: right;\">     5</td><td style=\"text-align: right;\">           3</td><td style=\"text-align: right;\">              7</td><td style=\"text-align: right;\">            7</td><td style=\"text-align: right;\">         7</td><td style=\"text-align: right;\">                7</td></tr>\n",
       "<tr><td style=\"text-align: right;\">           2</td><td style=\"text-align: right;\">    23</td><td>Returning UNC Student</td><td>No          </td><td>Biology                         </td><td>No            </td><td>MATH 231, MATH 232, MATH 233, MATH 381           </td><td>None to less than one month!</td><td>               </td><td>      </td><td>            </td><td>            </td><td>           </td><td>Remote   </td><td>Yes                </td><td>3 to 5 hours         </td><td>5 to 10 hours      </td><td style=\"text-align: right;\">            2</td><td style=\"text-align: right;\">          1</td><td style=\"text-align: right;\">         1</td><td style=\"text-align: right;\">          7</td><td style=\"text-align: right;\">             6</td><td style=\"text-align: right;\">          0</td><td style=\"text-align: right;\">             7</td><td style=\"text-align: right;\">               7</td><td style=\"text-align: right;\">                      7</td><td style=\"text-align: right;\">             7</td><td>              </td><td>                    </td><td>                </td><td style=\"text-align: right;\">     5</td><td style=\"text-align: right;\">           5</td><td style=\"text-align: right;\">              6</td><td style=\"text-align: right;\">            7</td><td style=\"text-align: right;\">         7</td><td style=\"text-align: right;\">                7</td></tr>\n",
       "<tr><td style=\"text-align: right;\">           3</td><td style=\"text-align: right;\">    24</td><td>Returning UNC Student</td><td>No          </td><td>Biology                         </td><td>No            </td><td>MATH 130, MATH 231                               </td><td>None to less than one month!</td><td>               </td><td>      </td><td>            </td><td>            </td><td>           </td><td>         </td><td>Yes                </td><td>5 to 10 hours        </td><td>5 to 10 hours      </td><td style=\"text-align: right;\">            2</td><td style=\"text-align: right;\">          3</td><td style=\"text-align: right;\">         1</td><td style=\"text-align: right;\">          6</td><td style=\"text-align: right;\">             4</td><td style=\"text-align: right;\">          4</td><td style=\"text-align: right;\">             7</td><td style=\"text-align: right;\">               7</td><td style=\"text-align: right;\">                      7</td><td style=\"text-align: right;\">             7</td><td>7             </td><td>7                   </td><td>7               </td><td style=\"text-align: right;\">     6</td><td style=\"text-align: right;\">           6</td><td style=\"text-align: right;\">              4</td><td style=\"text-align: right;\">            5</td><td style=\"text-align: right;\">         4</td><td style=\"text-align: right;\">                7</td></tr>\n",
       "<tr><td style=\"text-align: right;\">           4</td><td style=\"text-align: right;\">    22</td><td>Returning UNC Student</td><td>No          </td><td>Biology                         </td><td>No            </td><td>MATH 129P, MATH 130, MATH 231, MATH 232, MATH 233</td><td>None to less than one month!</td><td>               </td><td>      </td><td>            </td><td>            </td><td>           </td><td>Remote   </td><td>Yes                </td><td>3 to 5 hours         </td><td>3 to 5 hours       </td><td style=\"text-align: right;\">            3</td><td style=\"text-align: right;\">          1</td><td style=\"text-align: right;\">         1</td><td style=\"text-align: right;\">          5</td><td style=\"text-align: right;\">             4</td><td style=\"text-align: right;\">          1</td><td style=\"text-align: right;\">             6</td><td style=\"text-align: right;\">               6</td><td style=\"text-align: right;\">                      7</td><td style=\"text-align: right;\">             5</td><td>              </td><td>                    </td><td>                </td><td style=\"text-align: right;\">     5</td><td style=\"text-align: right;\">           4</td><td style=\"text-align: right;\">              4</td><td style=\"text-align: right;\">            6</td><td style=\"text-align: right;\">         6</td><td style=\"text-align: right;\">                7</td></tr>\n",
       "</tbody>\n",
       "</table>"
      ],
      "text/plain": [
       "'<table>\\n<thead>\\n<tr><th style=\"text-align: right;\">  row_number</th><th style=\"text-align: right;\">  year</th><th>unc_status           </th><th>comp_major  </th><th>primary_major                   </th><th>data_science  </th><th>prereqs                                          </th><th>prior_exp                   </th><th>AP_Principles  </th><th>AP_A  </th><th>other_comp  </th><th>prior_time  </th><th>languages  </th><th>section  </th><th>in_person_classes  </th><th>hours_online_social  </th><th>hours_online_work  </th><th style=\"text-align: right;\">  lesson_time</th><th style=\"text-align: right;\">  sync_perf</th><th style=\"text-align: right;\">  all_sync</th><th style=\"text-align: right;\">  own_notes</th><th style=\"text-align: right;\">  own_examples</th><th style=\"text-align: right;\">  oh_visits</th><th style=\"text-align: right;\">  ls_effective</th><th style=\"text-align: right;\">  lsqs_effective</th><th style=\"text-align: right;\">  programming_effective</th><th style=\"text-align: right;\">  qz_effective</th><th>oh_effective  </th><th>tutoring_effective  </th><th>kaki_effective  </th><th style=\"text-align: right;\">  pace</th><th style=\"text-align: right;\">  difficulty</th><th style=\"text-align: right;\">  understanding</th><th style=\"text-align: right;\">  interesting</th><th style=\"text-align: right;\">  valuable</th><th style=\"text-align: right;\">  would_recommend</th></tr>\\n</thead>\\n<tbody>\\n<tr><td style=\"text-align: right;\">           0</td><td style=\"text-align: right;\">    23</td><td>Returning UNC Student</td><td>No          </td><td>Advertising and Public Relations</td><td>No            </td><td>MATH 129P, MATH 130                              </td><td>None to less than one month!</td><td>               </td><td>      </td><td>            </td><td>            </td><td>           </td><td>In-Person</td><td>                   </td><td>3 to 5 hours         </td><td>3 to 5 hours       </td><td style=\"text-align: right;\">            5</td><td style=\"text-align: right;\">          2</td><td style=\"text-align: right;\">         2</td><td style=\"text-align: right;\">          4</td><td style=\"text-align: right;\">             2</td><td style=\"text-align: right;\">          2</td><td style=\"text-align: right;\">             7</td><td style=\"text-align: right;\">               6</td><td style=\"text-align: right;\">                      6</td><td style=\"text-align: right;\">             5</td><td>5             </td><td>                    </td><td>3               </td><td style=\"text-align: right;\">     5</td><td style=\"text-align: right;\">           5</td><td style=\"text-align: right;\">              4</td><td style=\"text-align: right;\">            5</td><td style=\"text-align: right;\">         6</td><td style=\"text-align: right;\">                7</td></tr>\\n<tr><td style=\"text-align: right;\">           1</td><td style=\"text-align: right;\">    24</td><td>Returning UNC Student</td><td>No          </td><td>Anthropology                    </td><td>No            </td><td>MATH 129P, MATH 231                              </td><td>None to less than one month!</td><td>               </td><td>      </td><td>            </td><td>            </td><td>           </td><td>In-Person</td><td>                   </td><td>5 to 10 hours        </td><td>5 to 10 hours      </td><td style=\"text-align: right;\">            4</td><td style=\"text-align: right;\">          5</td><td style=\"text-align: right;\">         4</td><td style=\"text-align: right;\">          7</td><td style=\"text-align: right;\">             6</td><td style=\"text-align: right;\">          0</td><td style=\"text-align: right;\">             6</td><td style=\"text-align: right;\">               5</td><td style=\"text-align: right;\">                      7</td><td style=\"text-align: right;\">             5</td><td>              </td><td>                    </td><td>6               </td><td style=\"text-align: right;\">     5</td><td style=\"text-align: right;\">           3</td><td style=\"text-align: right;\">              7</td><td style=\"text-align: right;\">            7</td><td style=\"text-align: right;\">         7</td><td style=\"text-align: right;\">                7</td></tr>\\n<tr><td style=\"text-align: right;\">           2</td><td style=\"text-align: right;\">    23</td><td>Returning UNC Student</td><td>No          </td><td>Biology                         </td><td>No            </td><td>MATH 231, MATH 232, MATH 233, MATH 381           </td><td>None to less than one month!</td><td>               </td><td>      </td><td>            </td><td>            </td><td>           </td><td>Remote   </td><td>Yes                </td><td>3 to 5 hours         </td><td>5 to 10 hours      </td><td style=\"text-align: right;\">            2</td><td style=\"text-align: right;\">          1</td><td style=\"text-align: right;\">         1</td><td style=\"text-align: right;\">          7</td><td style=\"text-align: right;\">             6</td><td style=\"text-align: right;\">          0</td><td style=\"text-align: right;\">             7</td><td style=\"text-align: right;\">               7</td><td style=\"text-align: right;\">                      7</td><td style=\"text-align: right;\">             7</td><td>              </td><td>                    </td><td>                </td><td style=\"text-align: right;\">     5</td><td style=\"text-align: right;\">           5</td><td style=\"text-align: right;\">              6</td><td style=\"text-align: right;\">            7</td><td style=\"text-align: right;\">         7</td><td style=\"text-align: right;\">                7</td></tr>\\n<tr><td style=\"text-align: right;\">           3</td><td style=\"text-align: right;\">    24</td><td>Returning UNC Student</td><td>No          </td><td>Biology                         </td><td>No            </td><td>MATH 130, MATH 231                               </td><td>None to less than one month!</td><td>               </td><td>      </td><td>            </td><td>            </td><td>           </td><td>         </td><td>Yes                </td><td>5 to 10 hours        </td><td>5 to 10 hours      </td><td style=\"text-align: right;\">            2</td><td style=\"text-align: right;\">          3</td><td style=\"text-align: right;\">         1</td><td style=\"text-align: right;\">          6</td><td style=\"text-align: right;\">             4</td><td style=\"text-align: right;\">          4</td><td style=\"text-align: right;\">             7</td><td style=\"text-align: right;\">               7</td><td style=\"text-align: right;\">                      7</td><td style=\"text-align: right;\">             7</td><td>7             </td><td>7                   </td><td>7               </td><td style=\"text-align: right;\">     6</td><td style=\"text-align: right;\">           6</td><td style=\"text-align: right;\">              4</td><td style=\"text-align: right;\">            5</td><td style=\"text-align: right;\">         4</td><td style=\"text-align: right;\">                7</td></tr>\\n<tr><td style=\"text-align: right;\">           4</td><td style=\"text-align: right;\">    22</td><td>Returning UNC Student</td><td>No          </td><td>Biology                         </td><td>No            </td><td>MATH 129P, MATH 130, MATH 231, MATH 232, MATH 233</td><td>None to less than one month!</td><td>               </td><td>      </td><td>            </td><td>            </td><td>           </td><td>Remote   </td><td>Yes                </td><td>3 to 5 hours         </td><td>3 to 5 hours       </td><td style=\"text-align: right;\">            3</td><td style=\"text-align: right;\">          1</td><td style=\"text-align: right;\">         1</td><td style=\"text-align: right;\">          5</td><td style=\"text-align: right;\">             4</td><td style=\"text-align: right;\">          1</td><td style=\"text-align: right;\">             6</td><td style=\"text-align: right;\">               6</td><td style=\"text-align: right;\">                      7</td><td style=\"text-align: right;\">             5</td><td>              </td><td>                    </td><td>                </td><td style=\"text-align: right;\">     5</td><td style=\"text-align: right;\">           4</td><td style=\"text-align: right;\">              4</td><td style=\"text-align: right;\">            6</td><td style=\"text-align: right;\">         6</td><td style=\"text-align: right;\">                7</td></tr>\\n</tbody>\\n</table>'"
      ]
     },
     "execution_count": 20,
     "metadata": {},
     "output_type": "execute_result"
    }
   ],
   "source": [
    "from data_utils import head\n",
    "\n",
    "from tabulate import tabulate\n",
    "\n",
    "data_cols_head: dict[str, list[str]] = head(data_cols, 5)\n",
    "\n",
    "tabulate(data_cols_head, data_cols_head.keys(), \"html\")"
   ]
  },
  {
   "cell_type": "markdown",
   "metadata": {},
   "source": []
  },
  {
   "cell_type": "markdown",
   "metadata": {},
   "source": [
    "Next, we will count up the values of each category. For example, we will see how many people had less than 1 month of computer science experience, and we will see how many people believe computer science to be a \"7\" on the importance scale, or a \"6,\" etc. This function will help quantify how many of each response we receive. "
   ]
  },
  {
   "cell_type": "code",
   "execution_count": null,
   "metadata": {},
   "outputs": [],
   "source": [
    "from data_utils import count\n",
    "\n",
    "selected_data: dict[str, list[str]] = select(data_cols, [\"prior_exp\", \"valuable\"])\n",
    "\n",
    "race_counts: dict[str, int] = count(selected_data[\"subject_race\"])\n",
    "print(f\"race_counts: {race_counts}\")\n",
    "\n",
    "sex_counts: dict[str, int] = count(selected_data[\"subject_sex\"])\n",
    "print(f\"sex_counts: {sex_counts}\")"
   ]
  }
 ],
 "metadata": {
  "interpreter": {
   "hash": "77eae0d149ba61c2d600661d89f90b4aa2630fec4556ce7a67e67a981106c5c1"
  },
  "kernelspec": {
   "display_name": "Python 3.9.6 64-bit",
   "name": "python3"
  },
  "language_info": {
   "codemirror_mode": {
    "name": "ipython",
    "version": 3
   },
   "file_extension": ".py",
   "mimetype": "text/x-python",
   "name": "python",
   "nbconvert_exporter": "python",
   "pygments_lexer": "ipython3",
   "version": "3.9.6"
  },
  "orig_nbformat": 4
 },
 "nbformat": 4,
 "nbformat_minor": 2
}
