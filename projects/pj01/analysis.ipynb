{
 "cells": [
  {
   "cell_type": "markdown",
   "metadata": {},
   "source": [
    "# Data Analysis: Project 1"
   ]
  },
  {
   "cell_type": "markdown",
   "metadata": {},
   "source": [
    "Using the data presented through the survey, I believe that students that have prior experience will think that computer science is a valuble skill. My reason is that, if you are an individual who has devoted lots of time to computer science, you probably believe there is something inherently valuble about the skill. Those who have spent less time outside of class practicing computer science probably do not value it as much as those who have spent more time. "
   ]
  },
  {
   "cell_type": "code",
   "execution_count": 19,
   "metadata": {},
   "outputs": [],
   "source": [
    "__author__ = \"7303-89910\""
   ]
  },
  {
   "cell_type": "markdown",
   "metadata": {},
   "source": [
    "Before the analysis begins, autosave needs to be set up. This is copy/pasted from ex07."
   ]
  },
  {
   "cell_type": "code",
   "execution_count": 20,
   "metadata": {},
   "outputs": [
    {
     "name": "stdout",
     "output_type": "stream",
     "text": [
      "Autoreload of imported modules enabled. Be sure to save your work in other modules!\n"
     ]
    }
   ],
   "source": [
    "%reload_ext autoreload\n",
    "%autoreload 2\n",
    "print(\"Autoreload of imported modules enabled. Be sure to save your work in other modules!\")"
   ]
  },
  {
   "cell_type": "markdown",
   "metadata": {},
   "source": [
    "The class's data must be located before the analysis can start."
   ]
  },
  {
   "cell_type": "code",
   "execution_count": 21,
   "metadata": {},
   "outputs": [],
   "source": [
    "DATA_DIRECTORY=\"../../data\"\n",
    "DATA_FILE_PATH=f\"{DATA_DIRECTORY}/survey.csv\""
   ]
  },
  {
   "cell_type": "markdown",
   "metadata": {},
   "source": [
    "As we go down the line, the first function used in the analysis is the reader function. This function shows all of the categories of data to choose from when forming a hypothesis. Not all of them will be used, but it is good to see them all presented nonetheless. "
   ]
  },
  {
   "cell_type": "code",
   "execution_count": 22,
   "metadata": {},
   "outputs": [
    {
     "name": "stdout",
     "output_type": "stream",
     "text": [
      "Data File Read: ../../data/survey.csv\n",
      "573 rows\n",
      "36 columns\n",
      "Columns names: dict_keys(['row_number', 'year', 'unc_status', 'comp_major', 'primary_major', 'data_science', 'prereqs', 'prior_exp', 'AP_Principles', 'AP_A', 'other_comp', 'prior_time', 'languages', 'section', 'in_person_classes', 'hours_online_social', 'hours_online_work', 'lesson_time', 'sync_perf', 'all_sync', 'own_notes', 'own_examples', 'oh_visits', 'ls_effective', 'lsqs_effective', 'programming_effective', 'qz_effective', 'oh_effective', 'tutoring_effective', 'kaki_effective', 'pace', 'difficulty', 'understanding', 'interesting', 'valuable', 'would_recommend'])\n"
     ]
    }
   ],
   "source": [
    "from data_utils import read_csv_rows\n",
    "data_rows: list[dict[str, str]] = read_csv_rows(DATA_FILE_PATH)\n",
    "\n",
    "if len(data_rows) == 0:\n",
    "    print(\"Fix your function my guy.\")\n",
    "else:\n",
    "    print(f\"Data File Read: {DATA_FILE_PATH}\")\n",
    "    print(f\"{len(data_rows)} rows\")\n",
    "    print(f\"{len(data_rows[0].keys())} columns\")\n",
    "    print(f\"Columns names: {data_rows[0].keys()}\")"
   ]
  },
  {
   "cell_type": "markdown",
   "metadata": {},
   "source": [
    "Using the \"column_values\" function, we can assess how many values each of our relevant data columns have. In the case of my hypothesis, these two columns will be \"prior_exp\" and \"valuable.\" "
   ]
  },
  {
   "cell_type": "code",
   "execution_count": 23,
   "metadata": {},
   "outputs": [
    {
     "name": "stdout",
     "output_type": "stream",
     "text": [
      "Column 'prior_exp' has 573 values.\n",
      "The first five values are:\n",
      "None to less than one month!\n",
      "None to less than one month!\n",
      "None to less than one month!\n",
      "None to less than one month!\n",
      "None to less than one month!\n"
     ]
    }
   ],
   "source": [
    "from data_utils import column_values\n",
    "\n",
    "prior_exp: list[str] = column_values(data_rows, \"prior_exp\")\n",
    "\n",
    "print(f\"Column 'prior_exp' has {len(prior_exp)} values.\")\n",
    "print(\"The first five values are:\")\n",
    "for i in range(5):\n",
    "        print(prior_exp[i])"
   ]
  },
  {
   "cell_type": "markdown",
   "metadata": {},
   "source": [
    "The above example showcases how to represent data within a certain category. It is more so a demonstration, and for that purpose, I will only be using it for one of the variables. For the next function, however, I will be using both categories, \"prior_exp\" and \"valuable.\" The purpose of this function is to restructure the data into columns, organized by category. "
   ]
  },
  {
   "cell_type": "code",
   "execution_count": 24,
   "metadata": {},
   "outputs": [
    {
     "name": "stdout",
     "output_type": "stream",
     "text": [
      "36 columns\n",
      "573 rows\n",
      "Columns names: dict_keys(['row_number', 'year', 'unc_status', 'comp_major', 'primary_major', 'data_science', 'prereqs', 'prior_exp', 'AP_Principles', 'AP_A', 'other_comp', 'prior_time', 'languages', 'section', 'in_person_classes', 'hours_online_social', 'hours_online_work', 'lesson_time', 'sync_perf', 'all_sync', 'own_notes', 'own_examples', 'oh_visits', 'ls_effective', 'lsqs_effective', 'programming_effective', 'qz_effective', 'oh_effective', 'tutoring_effective', 'kaki_effective', 'pace', 'difficulty', 'understanding', 'interesting', 'valuable', 'would_recommend'])\n"
     ]
    }
   ],
   "source": [
    "from data_utils import columnar\n",
    "\n",
    "data_cols: dict[str, list[str]] = columnar(data_rows)\n",
    "\n",
    "print(f\"{len(data_cols.keys())} columns\")\n",
    "print(f\"{len(data_cols['prior_exp'])} rows\")\n",
    "print(f\"Columns names: {data_cols.keys()}\")"
   ]
  },
  {
   "cell_type": "code",
   "execution_count": 25,
   "metadata": {},
   "outputs": [
    {
     "name": "stdout",
     "output_type": "stream",
     "text": [
      "36 columns\n",
      "573 rows\n",
      "Columns names: dict_keys(['row_number', 'year', 'unc_status', 'comp_major', 'primary_major', 'data_science', 'prereqs', 'prior_exp', 'AP_Principles', 'AP_A', 'other_comp', 'prior_time', 'languages', 'section', 'in_person_classes', 'hours_online_social', 'hours_online_work', 'lesson_time', 'sync_perf', 'all_sync', 'own_notes', 'own_examples', 'oh_visits', 'ls_effective', 'lsqs_effective', 'programming_effective', 'qz_effective', 'oh_effective', 'tutoring_effective', 'kaki_effective', 'pace', 'difficulty', 'understanding', 'interesting', 'valuable', 'would_recommend'])\n"
     ]
    }
   ],
   "source": [
    "from data_utils import columnar\n",
    "\n",
    "data_cols: dict[str, list[str]] = columnar(data_rows)\n",
    "\n",
    "print(f\"{len(data_cols.keys())} columns\")\n",
    "print(f\"{len(data_cols['valuable'])} rows\")\n",
    "print(f\"Columns names: {data_cols.keys()}\")"
   ]
  },
  {
   "cell_type": "markdown",
   "metadata": {},
   "source": [
    "Next, we need to structure the data into tables, so that it can be analyzed properly. To do so, we will use the head function and the tabulate function to demonstrate the available values. Below, 5 rows of student responses can be seen. Later, we will narrow this information down to only the \"prior_exp\" and \"valuable\" tables. "
   ]
  },
  {
   "cell_type": "code",
   "execution_count": 26,
   "metadata": {},
   "outputs": [
    {
     "data": {
      "text/html": [
       "<table>\n",
       "<thead>\n",
       "<tr><th style=\"text-align: right;\">  row_number</th><th style=\"text-align: right;\">  year</th><th>unc_status           </th><th>comp_major  </th><th>primary_major                   </th><th>data_science  </th><th>prereqs                                          </th><th>prior_exp                   </th><th>AP_Principles  </th><th>AP_A  </th><th>other_comp  </th><th>prior_time  </th><th>languages  </th><th>section  </th><th>in_person_classes  </th><th>hours_online_social  </th><th>hours_online_work  </th><th style=\"text-align: right;\">  lesson_time</th><th style=\"text-align: right;\">  sync_perf</th><th style=\"text-align: right;\">  all_sync</th><th style=\"text-align: right;\">  own_notes</th><th style=\"text-align: right;\">  own_examples</th><th style=\"text-align: right;\">  oh_visits</th><th style=\"text-align: right;\">  ls_effective</th><th style=\"text-align: right;\">  lsqs_effective</th><th style=\"text-align: right;\">  programming_effective</th><th style=\"text-align: right;\">  qz_effective</th><th>oh_effective  </th><th>tutoring_effective  </th><th>kaki_effective  </th><th style=\"text-align: right;\">  pace</th><th style=\"text-align: right;\">  difficulty</th><th style=\"text-align: right;\">  understanding</th><th style=\"text-align: right;\">  interesting</th><th style=\"text-align: right;\">  valuable</th><th style=\"text-align: right;\">  would_recommend</th></tr>\n",
       "</thead>\n",
       "<tbody>\n",
       "<tr><td style=\"text-align: right;\">           0</td><td style=\"text-align: right;\">    23</td><td>Returning UNC Student</td><td>No          </td><td>Advertising and Public Relations</td><td>No            </td><td>MATH 129P, MATH 130                              </td><td>None to less than one month!</td><td>               </td><td>      </td><td>            </td><td>            </td><td>           </td><td>In-Person</td><td>                   </td><td>3 to 5 hours         </td><td>3 to 5 hours       </td><td style=\"text-align: right;\">            5</td><td style=\"text-align: right;\">          2</td><td style=\"text-align: right;\">         2</td><td style=\"text-align: right;\">          4</td><td style=\"text-align: right;\">             2</td><td style=\"text-align: right;\">          2</td><td style=\"text-align: right;\">             7</td><td style=\"text-align: right;\">               6</td><td style=\"text-align: right;\">                      6</td><td style=\"text-align: right;\">             5</td><td>5             </td><td>                    </td><td>3               </td><td style=\"text-align: right;\">     5</td><td style=\"text-align: right;\">           5</td><td style=\"text-align: right;\">              4</td><td style=\"text-align: right;\">            5</td><td style=\"text-align: right;\">         6</td><td style=\"text-align: right;\">                7</td></tr>\n",
       "<tr><td style=\"text-align: right;\">           1</td><td style=\"text-align: right;\">    24</td><td>Returning UNC Student</td><td>No          </td><td>Anthropology                    </td><td>No            </td><td>MATH 129P, MATH 231                              </td><td>None to less than one month!</td><td>               </td><td>      </td><td>            </td><td>            </td><td>           </td><td>In-Person</td><td>                   </td><td>5 to 10 hours        </td><td>5 to 10 hours      </td><td style=\"text-align: right;\">            4</td><td style=\"text-align: right;\">          5</td><td style=\"text-align: right;\">         4</td><td style=\"text-align: right;\">          7</td><td style=\"text-align: right;\">             6</td><td style=\"text-align: right;\">          0</td><td style=\"text-align: right;\">             6</td><td style=\"text-align: right;\">               5</td><td style=\"text-align: right;\">                      7</td><td style=\"text-align: right;\">             5</td><td>              </td><td>                    </td><td>6               </td><td style=\"text-align: right;\">     5</td><td style=\"text-align: right;\">           3</td><td style=\"text-align: right;\">              7</td><td style=\"text-align: right;\">            7</td><td style=\"text-align: right;\">         7</td><td style=\"text-align: right;\">                7</td></tr>\n",
       "<tr><td style=\"text-align: right;\">           2</td><td style=\"text-align: right;\">    23</td><td>Returning UNC Student</td><td>No          </td><td>Biology                         </td><td>No            </td><td>MATH 231, MATH 232, MATH 233, MATH 381           </td><td>None to less than one month!</td><td>               </td><td>      </td><td>            </td><td>            </td><td>           </td><td>Remote   </td><td>Yes                </td><td>3 to 5 hours         </td><td>5 to 10 hours      </td><td style=\"text-align: right;\">            2</td><td style=\"text-align: right;\">          1</td><td style=\"text-align: right;\">         1</td><td style=\"text-align: right;\">          7</td><td style=\"text-align: right;\">             6</td><td style=\"text-align: right;\">          0</td><td style=\"text-align: right;\">             7</td><td style=\"text-align: right;\">               7</td><td style=\"text-align: right;\">                      7</td><td style=\"text-align: right;\">             7</td><td>              </td><td>                    </td><td>                </td><td style=\"text-align: right;\">     5</td><td style=\"text-align: right;\">           5</td><td style=\"text-align: right;\">              6</td><td style=\"text-align: right;\">            7</td><td style=\"text-align: right;\">         7</td><td style=\"text-align: right;\">                7</td></tr>\n",
       "<tr><td style=\"text-align: right;\">           3</td><td style=\"text-align: right;\">    24</td><td>Returning UNC Student</td><td>No          </td><td>Biology                         </td><td>No            </td><td>MATH 130, MATH 231                               </td><td>None to less than one month!</td><td>               </td><td>      </td><td>            </td><td>            </td><td>           </td><td>         </td><td>Yes                </td><td>5 to 10 hours        </td><td>5 to 10 hours      </td><td style=\"text-align: right;\">            2</td><td style=\"text-align: right;\">          3</td><td style=\"text-align: right;\">         1</td><td style=\"text-align: right;\">          6</td><td style=\"text-align: right;\">             4</td><td style=\"text-align: right;\">          4</td><td style=\"text-align: right;\">             7</td><td style=\"text-align: right;\">               7</td><td style=\"text-align: right;\">                      7</td><td style=\"text-align: right;\">             7</td><td>7             </td><td>7                   </td><td>7               </td><td style=\"text-align: right;\">     6</td><td style=\"text-align: right;\">           6</td><td style=\"text-align: right;\">              4</td><td style=\"text-align: right;\">            5</td><td style=\"text-align: right;\">         4</td><td style=\"text-align: right;\">                7</td></tr>\n",
       "<tr><td style=\"text-align: right;\">           4</td><td style=\"text-align: right;\">    22</td><td>Returning UNC Student</td><td>No          </td><td>Biology                         </td><td>No            </td><td>MATH 129P, MATH 130, MATH 231, MATH 232, MATH 233</td><td>None to less than one month!</td><td>               </td><td>      </td><td>            </td><td>            </td><td>           </td><td>Remote   </td><td>Yes                </td><td>3 to 5 hours         </td><td>3 to 5 hours       </td><td style=\"text-align: right;\">            3</td><td style=\"text-align: right;\">          1</td><td style=\"text-align: right;\">         1</td><td style=\"text-align: right;\">          5</td><td style=\"text-align: right;\">             4</td><td style=\"text-align: right;\">          1</td><td style=\"text-align: right;\">             6</td><td style=\"text-align: right;\">               6</td><td style=\"text-align: right;\">                      7</td><td style=\"text-align: right;\">             5</td><td>              </td><td>                    </td><td>                </td><td style=\"text-align: right;\">     5</td><td style=\"text-align: right;\">           4</td><td style=\"text-align: right;\">              4</td><td style=\"text-align: right;\">            6</td><td style=\"text-align: right;\">         6</td><td style=\"text-align: right;\">                7</td></tr>\n",
       "</tbody>\n",
       "</table>"
      ],
      "text/plain": [
       "'<table>\\n<thead>\\n<tr><th style=\"text-align: right;\">  row_number</th><th style=\"text-align: right;\">  year</th><th>unc_status           </th><th>comp_major  </th><th>primary_major                   </th><th>data_science  </th><th>prereqs                                          </th><th>prior_exp                   </th><th>AP_Principles  </th><th>AP_A  </th><th>other_comp  </th><th>prior_time  </th><th>languages  </th><th>section  </th><th>in_person_classes  </th><th>hours_online_social  </th><th>hours_online_work  </th><th style=\"text-align: right;\">  lesson_time</th><th style=\"text-align: right;\">  sync_perf</th><th style=\"text-align: right;\">  all_sync</th><th style=\"text-align: right;\">  own_notes</th><th style=\"text-align: right;\">  own_examples</th><th style=\"text-align: right;\">  oh_visits</th><th style=\"text-align: right;\">  ls_effective</th><th style=\"text-align: right;\">  lsqs_effective</th><th style=\"text-align: right;\">  programming_effective</th><th style=\"text-align: right;\">  qz_effective</th><th>oh_effective  </th><th>tutoring_effective  </th><th>kaki_effective  </th><th style=\"text-align: right;\">  pace</th><th style=\"text-align: right;\">  difficulty</th><th style=\"text-align: right;\">  understanding</th><th style=\"text-align: right;\">  interesting</th><th style=\"text-align: right;\">  valuable</th><th style=\"text-align: right;\">  would_recommend</th></tr>\\n</thead>\\n<tbody>\\n<tr><td style=\"text-align: right;\">           0</td><td style=\"text-align: right;\">    23</td><td>Returning UNC Student</td><td>No          </td><td>Advertising and Public Relations</td><td>No            </td><td>MATH 129P, MATH 130                              </td><td>None to less than one month!</td><td>               </td><td>      </td><td>            </td><td>            </td><td>           </td><td>In-Person</td><td>                   </td><td>3 to 5 hours         </td><td>3 to 5 hours       </td><td style=\"text-align: right;\">            5</td><td style=\"text-align: right;\">          2</td><td style=\"text-align: right;\">         2</td><td style=\"text-align: right;\">          4</td><td style=\"text-align: right;\">             2</td><td style=\"text-align: right;\">          2</td><td style=\"text-align: right;\">             7</td><td style=\"text-align: right;\">               6</td><td style=\"text-align: right;\">                      6</td><td style=\"text-align: right;\">             5</td><td>5             </td><td>                    </td><td>3               </td><td style=\"text-align: right;\">     5</td><td style=\"text-align: right;\">           5</td><td style=\"text-align: right;\">              4</td><td style=\"text-align: right;\">            5</td><td style=\"text-align: right;\">         6</td><td style=\"text-align: right;\">                7</td></tr>\\n<tr><td style=\"text-align: right;\">           1</td><td style=\"text-align: right;\">    24</td><td>Returning UNC Student</td><td>No          </td><td>Anthropology                    </td><td>No            </td><td>MATH 129P, MATH 231                              </td><td>None to less than one month!</td><td>               </td><td>      </td><td>            </td><td>            </td><td>           </td><td>In-Person</td><td>                   </td><td>5 to 10 hours        </td><td>5 to 10 hours      </td><td style=\"text-align: right;\">            4</td><td style=\"text-align: right;\">          5</td><td style=\"text-align: right;\">         4</td><td style=\"text-align: right;\">          7</td><td style=\"text-align: right;\">             6</td><td style=\"text-align: right;\">          0</td><td style=\"text-align: right;\">             6</td><td style=\"text-align: right;\">               5</td><td style=\"text-align: right;\">                      7</td><td style=\"text-align: right;\">             5</td><td>              </td><td>                    </td><td>6               </td><td style=\"text-align: right;\">     5</td><td style=\"text-align: right;\">           3</td><td style=\"text-align: right;\">              7</td><td style=\"text-align: right;\">            7</td><td style=\"text-align: right;\">         7</td><td style=\"text-align: right;\">                7</td></tr>\\n<tr><td style=\"text-align: right;\">           2</td><td style=\"text-align: right;\">    23</td><td>Returning UNC Student</td><td>No          </td><td>Biology                         </td><td>No            </td><td>MATH 231, MATH 232, MATH 233, MATH 381           </td><td>None to less than one month!</td><td>               </td><td>      </td><td>            </td><td>            </td><td>           </td><td>Remote   </td><td>Yes                </td><td>3 to 5 hours         </td><td>5 to 10 hours      </td><td style=\"text-align: right;\">            2</td><td style=\"text-align: right;\">          1</td><td style=\"text-align: right;\">         1</td><td style=\"text-align: right;\">          7</td><td style=\"text-align: right;\">             6</td><td style=\"text-align: right;\">          0</td><td style=\"text-align: right;\">             7</td><td style=\"text-align: right;\">               7</td><td style=\"text-align: right;\">                      7</td><td style=\"text-align: right;\">             7</td><td>              </td><td>                    </td><td>                </td><td style=\"text-align: right;\">     5</td><td style=\"text-align: right;\">           5</td><td style=\"text-align: right;\">              6</td><td style=\"text-align: right;\">            7</td><td style=\"text-align: right;\">         7</td><td style=\"text-align: right;\">                7</td></tr>\\n<tr><td style=\"text-align: right;\">           3</td><td style=\"text-align: right;\">    24</td><td>Returning UNC Student</td><td>No          </td><td>Biology                         </td><td>No            </td><td>MATH 130, MATH 231                               </td><td>None to less than one month!</td><td>               </td><td>      </td><td>            </td><td>            </td><td>           </td><td>         </td><td>Yes                </td><td>5 to 10 hours        </td><td>5 to 10 hours      </td><td style=\"text-align: right;\">            2</td><td style=\"text-align: right;\">          3</td><td style=\"text-align: right;\">         1</td><td style=\"text-align: right;\">          6</td><td style=\"text-align: right;\">             4</td><td style=\"text-align: right;\">          4</td><td style=\"text-align: right;\">             7</td><td style=\"text-align: right;\">               7</td><td style=\"text-align: right;\">                      7</td><td style=\"text-align: right;\">             7</td><td>7             </td><td>7                   </td><td>7               </td><td style=\"text-align: right;\">     6</td><td style=\"text-align: right;\">           6</td><td style=\"text-align: right;\">              4</td><td style=\"text-align: right;\">            5</td><td style=\"text-align: right;\">         4</td><td style=\"text-align: right;\">                7</td></tr>\\n<tr><td style=\"text-align: right;\">           4</td><td style=\"text-align: right;\">    22</td><td>Returning UNC Student</td><td>No          </td><td>Biology                         </td><td>No            </td><td>MATH 129P, MATH 130, MATH 231, MATH 232, MATH 233</td><td>None to less than one month!</td><td>               </td><td>      </td><td>            </td><td>            </td><td>           </td><td>Remote   </td><td>Yes                </td><td>3 to 5 hours         </td><td>3 to 5 hours       </td><td style=\"text-align: right;\">            3</td><td style=\"text-align: right;\">          1</td><td style=\"text-align: right;\">         1</td><td style=\"text-align: right;\">          5</td><td style=\"text-align: right;\">             4</td><td style=\"text-align: right;\">          1</td><td style=\"text-align: right;\">             6</td><td style=\"text-align: right;\">               6</td><td style=\"text-align: right;\">                      7</td><td style=\"text-align: right;\">             5</td><td>              </td><td>                    </td><td>                </td><td style=\"text-align: right;\">     5</td><td style=\"text-align: right;\">           4</td><td style=\"text-align: right;\">              4</td><td style=\"text-align: right;\">            6</td><td style=\"text-align: right;\">         6</td><td style=\"text-align: right;\">                7</td></tr>\\n</tbody>\\n</table>'"
      ]
     },
     "execution_count": 26,
     "metadata": {},
     "output_type": "execute_result"
    }
   ],
   "source": [
    "from data_utils import head\n",
    "\n",
    "from tabulate import tabulate\n",
    "\n",
    "data_cols_head: dict[str, list[str]] = head(data_cols, 5)\n",
    "\n",
    "tabulate(data_cols_head, data_cols_head.keys(), \"html\")"
   ]
  },
  {
   "cell_type": "markdown",
   "metadata": {},
   "source": []
  },
  {
   "cell_type": "markdown",
   "metadata": {},
   "source": [
    "Now, since we have established a way to present the data, we will list it all out using the \"select\" function. With this function, we can list out all of the values for the categories relevant to the analysis. In this case, it will be \"prior_exp\" and \"valuable.\" "
   ]
  },
  {
   "cell_type": "markdown",
   "metadata": {},
   "source": [
    "The data below may seem overwhelming, but it can be easily adjusted by changing the number 1000 to any smaller number, to recieve only a small window of the data. Since the easiest way to create an accurate conclusion is through looking at all the data, I have listed all of it. However, for the sake of screen space, this number can be adjusted for convenience sake. "
   ]
  },
  {
   "cell_type": "code",
   "execution_count": 35,
   "metadata": {},
   "outputs": [
    {
     "data": {
      "text/html": [
       "<table>\n",
       "<thead>\n",
       "<tr><th>prior_exp                   </th><th style=\"text-align: right;\">  valuable</th></tr>\n",
       "</thead>\n",
       "<tbody>\n",
       "<tr><td>None to less than one month!</td><td style=\"text-align: right;\">         6</td></tr>\n",
       "<tr><td>None to less than one month!</td><td style=\"text-align: right;\">         7</td></tr>\n",
       "<tr><td>None to less than one month!</td><td style=\"text-align: right;\">         7</td></tr>\n",
       "<tr><td>None to less than one month!</td><td style=\"text-align: right;\">         4</td></tr>\n",
       "<tr><td>None to less than one month!</td><td style=\"text-align: right;\">         6</td></tr>\n",
       "<tr><td>Over 2 years                </td><td style=\"text-align: right;\">         4</td></tr>\n",
       "<tr><td>None to less than one month!</td><td style=\"text-align: right;\">         6</td></tr>\n",
       "<tr><td>None to less than one month!</td><td style=\"text-align: right;\">         5</td></tr>\n",
       "<tr><td>None to less than one month!</td><td style=\"text-align: right;\">         6</td></tr>\n",
       "<tr><td>None to less than one month!</td><td style=\"text-align: right;\">         6</td></tr>\n",
       "</tbody>\n",
       "</table>"
      ],
      "text/plain": [
       "'<table>\\n<thead>\\n<tr><th>prior_exp                   </th><th style=\"text-align: right;\">  valuable</th></tr>\\n</thead>\\n<tbody>\\n<tr><td>None to less than one month!</td><td style=\"text-align: right;\">         6</td></tr>\\n<tr><td>None to less than one month!</td><td style=\"text-align: right;\">         7</td></tr>\\n<tr><td>None to less than one month!</td><td style=\"text-align: right;\">         7</td></tr>\\n<tr><td>None to less than one month!</td><td style=\"text-align: right;\">         4</td></tr>\\n<tr><td>None to less than one month!</td><td style=\"text-align: right;\">         6</td></tr>\\n<tr><td>Over 2 years                </td><td style=\"text-align: right;\">         4</td></tr>\\n<tr><td>None to less than one month!</td><td style=\"text-align: right;\">         6</td></tr>\\n<tr><td>None to less than one month!</td><td style=\"text-align: right;\">         5</td></tr>\\n<tr><td>None to less than one month!</td><td style=\"text-align: right;\">         6</td></tr>\\n<tr><td>None to less than one month!</td><td style=\"text-align: right;\">         6</td></tr>\\n</tbody>\\n</table>'"
      ]
     },
     "execution_count": 35,
     "metadata": {},
     "output_type": "execute_result"
    }
   ],
   "source": [
    "from data_utils import select\n",
    "\n",
    "selected_data: dict[str, list[str]] = select(data_cols, [\"prior_exp\", \"valuable\"])\n",
    "\n",
    "tabulate(head(selected_data, 1000), selected_data.keys(), \"html\")"
   ]
  },
  {
   "cell_type": "markdown",
   "metadata": {},
   "source": [
    "finally, we will count up the values of each category. For example, we will see how many people had less than 1 month of computer science experience, and we will see how many people believe computer science to be a \"7\" on the importance scale, or a \"6,\" etc. This function will help quantify how many of each response we receive. "
   ]
  },
  {
   "cell_type": "code",
   "execution_count": 31,
   "metadata": {},
   "outputs": [
    {
     "name": "stdout",
     "output_type": "stream",
     "text": [
      "prior_exp: {'None to less than one month!': 402, 'Over 2 years': 10, '2-6 months': 103, '7-12 months': 36, '1-2 years': 17}\n",
      "valuable: {'6': 152, '7': 245, '4': 48, '5': 74, '3': 11, '2': 24, '1': 12}\n"
     ]
    }
   ],
   "source": [
    "from data_utils import count\n",
    "\n",
    "selected_data: dict[str, list[str]] = select(data_cols, [\"prior_exp\", \"valuable\"])\n",
    "\n",
    "race_counts: dict[str, int] = count(selected_data[\"prior_exp\"])\n",
    "print(f\"prior_exp: {race_counts}\")\n",
    "\n",
    "sex_counts: dict[str, int] = count(selected_data[\"valuable\"])\n",
    "print(f\"valuable: {sex_counts}\")"
   ]
  },
  {
   "cell_type": "markdown",
   "metadata": {},
   "source": [
    "After looking through all the data in both categories, it is hard to come to a definitive conclusion. I certainly expected those with computer science experience to rate it as more valuable than the average COMP110 student, but I did not imagine that so many students in general would rate computer science as a 6 or a 7 on the scale of importance. In fact, the majority of students rated computer science to be either a 6 or 7 on the valuable scale, regardless of how much experience. When sifting through the data, I found that the category of 1-2 months of experience said that the value of computer science was a 7 more than any other demographic. However, at the same time, that very same category gave 1 as an answer to value more than any other demographic as well. Those with 1-2 years and over 2 years of experience consistantly rated computer science a 6 or a 7 on the value scale, with the exception of one individual giving it a 4. Porportionately, it seems as though my initial hypothesis remains correct, as it does seem that those with more experience find computer science more valuable. At the same time, however, my hypothesis does not work both ways. It does not appear that the less experience people have, the more likely they are to not value computer science. To conclude, the data indicates that many people consider computer science valuable regardless of how much experience they have. This could be due to the fact that everyone surveyed is participating in a computer science class. If we were to give this example to a group of random individuals, not having a computer science class in common, I imagine the results would look a lot different. \n"
   ]
  }
 ],
 "metadata": {
  "interpreter": {
   "hash": "77eae0d149ba61c2d600661d89f90b4aa2630fec4556ce7a67e67a981106c5c1"
  },
  "kernelspec": {
   "display_name": "Python 3.9.6 64-bit",
   "name": "python3"
  },
  "language_info": {
   "codemirror_mode": {
    "name": "ipython",
    "version": 3
   },
   "file_extension": ".py",
   "mimetype": "text/x-python",
   "name": "python",
   "nbconvert_exporter": "python",
   "pygments_lexer": "ipython3",
   "version": "3.9.6"
  },
  "orig_nbformat": 4
 },
 "nbformat": 4,
 "nbformat_minor": 2
}
